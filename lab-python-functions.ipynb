{
 "cells": [
  {
   "cell_type": "markdown",
   "id": "25d7736c-ba17-4aff-b6bb-66eba20fbf4e",
   "metadata": {},
   "source": [
    "# Lab | Functions"
   ]
  },
  {
   "cell_type": "markdown",
   "id": "0c581062-8967-4d93-b06e-62833222f930",
   "metadata": {
    "tags": []
   },
   "source": [
    "## Exercise: Managing Customer Orders with Functions\n",
    "\n",
    "In the previous exercise, you improved the code for managing customer orders by using loops and flow control. Now, let's take it a step further and refactor the code by introducing functions.\n",
    "\n",
    "Follow the steps below to complete the exercise:\n",
    "\n",
    "1. Define a function named `initialize_inventory` that takes `products` as a parameter. Inside the function, implement the code for initializing the inventory dictionary using a loop and user input.\n",
    "\n",
    "2. Define a function named `get_customer_orders` that takes no parameters. Inside the function, implement the code for prompting the user to enter the product names using a loop. The function should return the `customer_orders` set.\n",
    "\n",
    "3. Define a function named `update_inventory` that takes `customer_orders` and `inventory` as parameters. Inside the function, implement the code for updating the inventory dictionary based on the customer orders.\n",
    "\n",
    "4. Define a function named `calculate_order_statistics` that takes `customer_orders` and `products` as parameters. Inside the function, implement the code for calculating the order statistics (total products ordered, and percentage of unique products ordered). The function should return these values.\n",
    "\n",
    "5. Define a function named `print_order_statistics` that takes `order_statistics` as a parameter. Inside the function, implement the code for printing the order statistics.\n",
    "\n",
    "6. Define a function named `print_updated_inventory` that takes `inventory` as a parameter. Inside the function, implement the code for printing the updated inventory.\n",
    "\n",
    "7. Call the functions in the appropriate sequence to execute the program and manage customer orders.\n",
    "\n",
    "Hints for functions:\n",
    "\n",
    "- Consider the input parameters required for each function and their return values.\n",
    "- Utilize function parameters and return values to transfer data between functions.\n",
    "- Test your functions individually to ensure they work correctly.\n",
    "\n",
    "\n"
   ]
  },
  {
   "cell_type": "code",
   "execution_count": 2,
   "id": "fa40f746-2fe6-44bc-821a-9c1128e5e534",
   "metadata": {
    "tags": []
   },
   "outputs": [
    {
     "name": "stdin",
     "output_type": "stream",
     "text": [
      "What's the quantity of this t-shirt?  8\n",
      "What's the quantity of this mug?  9\n",
      "What's the quantity of this hat?  7\n",
      "What's the quantity of this book?  8\n",
      "What's the quantity of this keychain?  9\n"
     ]
    },
    {
     "name": "stdout",
     "output_type": "stream",
     "text": [
      "{'t-shirt': 8, 'mug': 9, 'hat': 7, 'book': 8, 'keychain': 9}\n"
     ]
    }
   ],
   "source": [
    "#Define a function named initialize_inventory that takes products as a parameter. Inside the function, implement the code for initializing the inventory dictionary using a loop and user input.\n",
    "\n",
    "products = [\"t-shirt\", \"mug\", \"hat\", \"book\", \"keychain\"]\n",
    "\n",
    "\n",
    "def initialize_inventory(products):\n",
    "    inventory = {}\n",
    "    for product in products:\n",
    "        quantity_item = int(input(f\"What's the quantity of this {product}? \").lower().strip())\n",
    "        inventory[product] = quantity_item\n",
    "    return (inventory)\n",
    "    \n",
    "inventory = initialize_inventory(products)\n",
    "\n",
    "print(inventory)\n"
   ]
  },
  {
   "cell_type": "code",
   "execution_count": 3,
   "id": "6482fb99-9336-4c78-8fe7-21e3997e60bb",
   "metadata": {
    "tags": []
   },
   "outputs": [
    {
     "name": "stdin",
     "output_type": "stream",
     "text": [
      "Enter the name of a product you want to order (choose from t-shirt, mug, hat, book, keychain):  mug\n",
      "Would you like to order another product? Please answer yes or no:  yes\n",
      "Enter the name of a product you want to order (choose from t-shirt, mug, hat, book, keychain):  hat\n",
      "Would you like to order another product? Please answer yes or no:  yes\n",
      "Enter the name of a product you want to order (choose from t-shirt, mug, hat, book, keychain):  book\n",
      "Would you like to order another product? Please answer yes or no:  no\n"
     ]
    },
    {
     "name": "stdout",
     "output_type": "stream",
     "text": [
      "Thank you and goodbye\n",
      "{'hat', 'mug', 'book'}\n"
     ]
    }
   ],
   "source": [
    "#Define a function named get_customer_orders that takes no parameters. Inside the function, implement the code for prompting the user to enter the product names using a loop. The function should return the customer_orders set\n",
    "\n",
    "def get_customer_orders():\n",
    "    customer_orders = set()\n",
    "    \n",
    "    while True:\n",
    "        order = input(\"Enter the name of a product you want to order (choose from t-shirt, mug, hat, book, keychain): \").lower().strip()\n",
    "        \n",
    "        while order not in products:\n",
    "            order = input(\"Invalid product. Please choose from t-shirt, mug, hat, book, keychain: \").lower().strip()\n",
    "    \n",
    "        customer_orders.add(order)\n",
    "    \n",
    "        new_order = input(\"Would you like to order another product? Please answer yes or no: \").lower().strip()\n",
    "     \n",
    "        while new_order not in [\"yes\", \"no\"]:\n",
    "            new_order = input(\"Invalid response. Please answer yes or no: \").lower().strip()\n",
    "\n",
    "        if new_order == \"no\":\n",
    "            print(\"Thank you and goodbye\")\n",
    "            break\n",
    "    \n",
    "    return(customer_orders)\n",
    "        \n",
    "customer_orders = get_customer_orders()\n",
    "print(customer_orders)"
   ]
  },
  {
   "cell_type": "code",
   "execution_count": 64,
   "id": "1c551365-f25f-4941-8167-ccc4624a65f0",
   "metadata": {
    "tags": []
   },
   "outputs": [
    {
     "name": "stdin",
     "output_type": "stream",
     "text": [
      "Enter the name of a product you want to order (choose from t-shirt, mug, hat, book, keychain):  book\n",
      "Would you like to order another product? Please answer yes or no:  yes\n",
      "Enter the name of a product you want to order (choose from t-shirt, mug, hat, book, keychain):  mug\n",
      "Would you like to order another product? Please answer yes or no:  yes\n",
      "Enter the name of a product you want to order (choose from t-shirt, mug, hat, book, keychain):  hat\n",
      "Would you like to order another product? Please answer yes or no:  no\n"
     ]
    },
    {
     "name": "stdout",
     "output_type": "stream",
     "text": [
      "Thank you and goodbye\n",
      "{'hat', 'mug', 'book'}\n"
     ]
    }
   ],
   "source": [
    "#Define a function named get_customer_orders that takes no parameters. Inside the function, implement the code for prompting the user to enter the product names using a loop. The function should return the customer_orders set\n",
    "\n",
    "customer_orders = set()\n",
    "\n",
    "def get_customer_orders():  \n",
    "    \n",
    "    order = input(\"Enter the name of a product you want to order (choose from t-shirt, mug, hat, book, keychain): \").lower().strip()\n",
    "        \n",
    "    while order not in products:\n",
    "        order = input(\"Invalid product. Please choose from t-shirt, mug, hat, book, keychain: \").lower().strip()\n",
    "    \n",
    "    customer_orders.add(order)\n",
    "    \n",
    "    \n",
    "    new_order = input(\"Would you like to order another product? Please answer yes or no: \").lower().strip()\n",
    "     \n",
    "    while new_order not in [\"yes\", \"no\"]:\n",
    "        new_order = input(\"Invalid response. Please answer yes or no: \").lower().strip()\n",
    "    \n",
    "    if new_order == \"no\":\n",
    "        print(\"Thank you and goodbye\")\n",
    "         \n",
    "        return(customer_orders)         \n",
    "    \n",
    "    return get_customer_orders()\n",
    "        \n",
    "customer_orders = get_customer_orders()\n",
    "print(customer_orders)\n"
   ]
  },
  {
   "cell_type": "code",
   "execution_count": 4,
   "id": "4be826ba-c4dc-4b96-a230-d0a33dddfb63",
   "metadata": {
    "tags": []
   },
   "outputs": [
    {
     "name": "stdout",
     "output_type": "stream",
     "text": [
      "The quantity of hat has been updated to 6.\n",
      "The quantity of mug has been updated to 8.\n",
      "The quantity of book has been updated to 7.\n",
      "Updated Inventory: {'t-shirt': 8, 'mug': 8, 'hat': 6, 'book': 7, 'keychain': 9}\n",
      "{'t-shirt': 8, 'mug': 8, 'hat': 6, 'book': 7, 'keychain': 9}\n"
     ]
    }
   ],
   "source": [
    "#Define a function named update_inventory that takes customer_orders and inventory as parameters. \n",
    "#Inside the function, implement the code for updating the inventory dictionary based on the customer orders.\n",
    "\n",
    "def update_inventory(customer_orders, inventory):\n",
    "    for product in customer_orders:\n",
    "        if inventory.get(product, 0) > 0:  # Check if the product is in stock\n",
    "            inventory[product] -= 1  # Reduce the quantity by 1\n",
    "            print(f\"The quantity of {product} has been updated to {inventory[product]}.\")\n",
    "        else:\n",
    "            print(f\"Sorry, {product} is out of stock and cannot be ordered.\")\n",
    "    \n",
    "    print(\"Updated Inventory:\", inventory)\n",
    "    return inventory\n",
    "\n",
    "up_inventory = update_inventory(customer_orders, inventory)\n",
    "\n",
    "print(up_inventory)"
   ]
  },
  {
   "cell_type": "code",
   "execution_count": 67,
   "id": "e351edc4-e2cb-42de-9511-096489af89b2",
   "metadata": {
    "tags": []
   },
   "outputs": [
    {
     "name": "stdin",
     "output_type": "stream",
     "text": [
      "How many do you want to order for hat?  1\n"
     ]
    },
    {
     "name": "stdout",
     "output_type": "stream",
     "text": [
      "The total ordered hats are: 1\n"
     ]
    },
    {
     "name": "stdin",
     "output_type": "stream",
     "text": [
      "How many do you want to order for mug?  2\n"
     ]
    },
    {
     "name": "stdout",
     "output_type": "stream",
     "text": [
      "The total ordered mugs are: 2\n"
     ]
    },
    {
     "name": "stdin",
     "output_type": "stream",
     "text": [
      "How many do you want to order for book?  4\n"
     ]
    },
    {
     "name": "stdout",
     "output_type": "stream",
     "text": [
      "The total ordered books are: 4\n",
      "The total number of ordered products is: 7\n",
      " The percentage of ordered product is:  hat: 16.67%\n",
      " The percentage of ordered product is:  mug: 25.00%\n",
      " The percentage of ordered product is:  book: 57.14%\n"
     ]
    }
   ],
   "source": [
    "## Define a function named calculate_order_statistics that takes customer_orders and products as parameters. \n",
    "#Inside the function, implement the code for calculating the order statistics:\n",
    "#(total products ordered, and percentage of unique products ordered). The function should return these values.\n",
    "\n",
    "def calculate_order_statistics(customer_orders, inventory):\n",
    "    \n",
    "    \"\"\" #calculate total_av_products:\n",
    "    for product in products:\n",
    "        total_available_products = sum(inventory.values())\n",
    "    print(f\"The total availabe products are: {total_available_products}\")\"\"\"\n",
    "  \n",
    "   #calculate total products ordered:\n",
    "    total_ordered_products = 0\n",
    "    percentage_per_product = {}\n",
    "\n",
    "    for order in customer_orders:\n",
    "        quantity = int(input(f\"How many do you want to order for {order}? \"))\n",
    "        total_ordered_products += quantity\n",
    "        print(f\"The total ordered {order}s are: {quantity}\")\n",
    "        \n",
    "        if inventory[order] > 0:  # Avoid division by zero\n",
    "                percentage = (quantity / inventory[order]) * 100\n",
    "        else:\n",
    "                percentage = 0\n",
    "        percentage_per_product[order] = percentage\n",
    "        \n",
    "    print(f\"The total number of ordered products is: {total_ordered_products}\")\n",
    "    for product, percentage in percentage_per_product.items():\n",
    "        print(\" The percentage of ordered product is: \", f\"{product}: {percentage:.2f}%\")\n",
    "     \n",
    "\n",
    "calculate_order_statistics(customer_orders, inventory)\n",
    "\n"
   ]
  },
  {
   "cell_type": "code",
   "execution_count": 53,
   "id": "79283f3b-665b-44cb-82da-8b9c1eaf40b0",
   "metadata": {
    "tags": []
   },
   "outputs": [
    {
     "name": "stdin",
     "output_type": "stream",
     "text": [
      "How many do you want to order for hat?  2\n"
     ]
    },
    {
     "name": "stdout",
     "output_type": "stream",
     "text": [
      "The total ordered hats are: 2\n"
     ]
    },
    {
     "name": "stdin",
     "output_type": "stream",
     "text": [
      "How many do you want to order for mug?  1\n"
     ]
    },
    {
     "name": "stdout",
     "output_type": "stream",
     "text": [
      "The total ordered mugs are: 1\n"
     ]
    },
    {
     "name": "stdin",
     "output_type": "stream",
     "text": [
      "How many do you want to order for book?  4\n"
     ]
    },
    {
     "name": "stdout",
     "output_type": "stream",
     "text": [
      "The total ordered books are: 4\n",
      "The total number of ordered products is: 7\n",
      " The percentage of ordered product is:  hat: 33.33%\n",
      " The percentage of ordered product is:  mug: 12.50%\n",
      " The percentage of ordered product is:  book: 57.14%\n"
     ]
    },
    {
     "ename": "NameError",
     "evalue": "name 'total_ordered_products' is not defined",
     "output_type": "error",
     "traceback": [
      "\u001b[0;31m---------------------------------------------------------------------------\u001b[0m",
      "\u001b[0;31mNameError\u001b[0m                                 Traceback (most recent call last)",
      "Cell \u001b[0;32mIn[53], line 6\u001b[0m\n\u001b[1;32m      1\u001b[0m \u001b[38;5;66;03m#Define a function named print_order_statistics that takes order_statistics as a parameter. \u001b[39;00m\n\u001b[1;32m      2\u001b[0m \u001b[38;5;66;03m#Inside the function, implement the code for printing the order statistics.\u001b[39;00m\n\u001b[1;32m      4\u001b[0m order_statistics \u001b[38;5;241m=\u001b[39m calculate_order_statistics(customer_orders, inventory)\n\u001b[0;32m----> 6\u001b[0m print_order_statistics(order_statistics)\n",
      "Cell \u001b[0;32mIn[52], line 6\u001b[0m, in \u001b[0;36mprint_order_statistics\u001b[0;34m(order_statistics)\u001b[0m\n\u001b[1;32m      4\u001b[0m \u001b[38;5;28;01mdef\u001b[39;00m \u001b[38;5;21mprint_order_statistics\u001b[39m(order_statistics):\n\u001b[0;32m----> 6\u001b[0m     \u001b[38;5;28mprint\u001b[39m(\u001b[38;5;124mf\u001b[39m\u001b[38;5;124m\"\u001b[39m\u001b[38;5;124mThe total number of ordered products is: \u001b[39m\u001b[38;5;132;01m{\u001b[39;00mtotal_ordered_products\u001b[38;5;132;01m}\u001b[39;00m\u001b[38;5;124m\"\u001b[39m)\n\u001b[1;32m      8\u001b[0m     \u001b[38;5;66;03m# Print the percentage of each product ordered\u001b[39;00m\n\u001b[1;32m      9\u001b[0m     \u001b[38;5;28mprint\u001b[39m(\u001b[38;5;124m\"\u001b[39m\u001b[38;5;124mThe percentage of each product ordered is:\u001b[39m\u001b[38;5;124m\"\u001b[39m)\n",
      "\u001b[0;31mNameError\u001b[0m: name 'total_ordered_products' is not defined"
     ]
    }
   ],
   "source": [
    "#Define a function named print_order_statistics that takes order_statistics as a parameter. \n",
    "#Inside the function, implement the code for printing the order statistics.\n",
    "\n",
    "order_statistics = calculate_order_statistics(customer_orders, inventory)\n",
    "\n",
    "print_order_statistics(order_statistics)"
   ]
  },
  {
   "cell_type": "code",
   "execution_count": 21,
   "id": "ba1f07e7-4964-47b5-8b15-be3506eb4b86",
   "metadata": {
    "tags": []
   },
   "outputs": [
    {
     "name": "stdout",
     "output_type": "stream",
     "text": [
      "{'t-shirt': 8, 'mug': 8, 'hat': 6, 'book': 7, 'keychain': 9}\n"
     ]
    }
   ],
   "source": [
    "#Define a function named print_updated_inventory that takes inventory as a parameter. \n",
    "#Inside the function, implement the code for printing the updated inventory.\n",
    "\n",
    "def print_updated_inventory(inventory):\n",
    "    print(up_inventory)\n",
    "    \n",
    "print_updated_inventory(inventory)"
   ]
  },
  {
   "cell_type": "code",
   "execution_count": 54,
   "id": "8f2f9a67-3fd3-4dfa-aa33-2ee7b534a0f6",
   "metadata": {
    "tags": []
   },
   "outputs": [
    {
     "name": "stdout",
     "output_type": "stream",
     "text": [
      "{'t-shirt': 8, 'mug': 8, 'hat': 6, 'book': 7, 'keychain': 9}\n",
      "{'hat', 'mug', 'book'}\n",
      "{'t-shirt': 8, 'mug': 8, 'hat': 6, 'book': 7, 'keychain': 9}\n"
     ]
    },
    {
     "name": "stdin",
     "output_type": "stream",
     "text": [
      "How many do you want to order for hat?  2\n"
     ]
    },
    {
     "name": "stdout",
     "output_type": "stream",
     "text": [
      "The total ordered hats are: 2\n"
     ]
    },
    {
     "name": "stdin",
     "output_type": "stream",
     "text": [
      "How many do you want to order for mug?  1\n"
     ]
    },
    {
     "name": "stdout",
     "output_type": "stream",
     "text": [
      "The total ordered mugs are: 1\n"
     ]
    },
    {
     "name": "stdin",
     "output_type": "stream",
     "text": [
      "How many do you want to order for book?  4\n"
     ]
    },
    {
     "name": "stdout",
     "output_type": "stream",
     "text": [
      "The total ordered books are: 4\n",
      "The total number of ordered products is: 7\n",
      " The percentage of ordered product is:  hat: 33.33%\n",
      " The percentage of ordered product is:  mug: 12.50%\n",
      " The percentage of ordered product is:  book: 57.14%\n"
     ]
    },
    {
     "ename": "NameError",
     "evalue": "name 'total_ordered_products' is not defined",
     "output_type": "error",
     "traceback": [
      "\u001b[0;31m---------------------------------------------------------------------------\u001b[0m",
      "\u001b[0;31mNameError\u001b[0m                                 Traceback (most recent call last)",
      "Cell \u001b[0;32mIn[54], line 9\u001b[0m\n\u001b[1;32m      5\u001b[0m \u001b[38;5;28mprint\u001b[39m(up_inventory)\n\u001b[1;32m      7\u001b[0m calculate_order_statistics(customer_orders, products)\n\u001b[0;32m----> 9\u001b[0m print_order_statistics(order_statistics)\n\u001b[1;32m     11\u001b[0m print_updated_inventory(inventory)\n",
      "Cell \u001b[0;32mIn[52], line 6\u001b[0m, in \u001b[0;36mprint_order_statistics\u001b[0;34m(order_statistics)\u001b[0m\n\u001b[1;32m      4\u001b[0m \u001b[38;5;28;01mdef\u001b[39;00m \u001b[38;5;21mprint_order_statistics\u001b[39m(order_statistics):\n\u001b[0;32m----> 6\u001b[0m     \u001b[38;5;28mprint\u001b[39m(\u001b[38;5;124mf\u001b[39m\u001b[38;5;124m\"\u001b[39m\u001b[38;5;124mThe total number of ordered products is: \u001b[39m\u001b[38;5;132;01m{\u001b[39;00mtotal_ordered_products\u001b[38;5;132;01m}\u001b[39;00m\u001b[38;5;124m\"\u001b[39m)\n\u001b[1;32m      8\u001b[0m     \u001b[38;5;66;03m# Print the percentage of each product ordered\u001b[39;00m\n\u001b[1;32m      9\u001b[0m     \u001b[38;5;28mprint\u001b[39m(\u001b[38;5;124m\"\u001b[39m\u001b[38;5;124mThe percentage of each product ordered is:\u001b[39m\u001b[38;5;124m\"\u001b[39m)\n",
      "\u001b[0;31mNameError\u001b[0m: name 'total_ordered_products' is not defined"
     ]
    }
   ],
   "source": [
    "#Call the functions in the appropriate sequence to execute the program and manage customer orders.\n",
    "\n",
    "print(inventory)\n",
    "print(customer_orders)\n",
    "print(up_inventory)\n",
    "\n",
    "calculate_order_statistics(customer_orders, products)\n",
    "\n",
    "print_order_statistics(order_statistics)\n",
    "\n",
    "print_updated_inventory(inventory)"
   ]
  }
 ],
 "metadata": {
  "kernelspec": {
   "display_name": "Python 3 (ipykernel)",
   "language": "python",
   "name": "python3"
  },
  "language_info": {
   "codemirror_mode": {
    "name": "ipython",
    "version": 3
   },
   "file_extension": ".py",
   "mimetype": "text/x-python",
   "name": "python",
   "nbconvert_exporter": "python",
   "pygments_lexer": "ipython3",
   "version": "3.11.4"
  }
 },
 "nbformat": 4,
 "nbformat_minor": 5
}
